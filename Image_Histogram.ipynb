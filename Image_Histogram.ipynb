{
 "cells": [
  {
   "cell_type": "code",
   "execution_count": 1,
   "metadata": {},
   "outputs": [],
   "source": [
    "%matplotlib inline\n",
    "import numpy as np\n",
    "from IPython.display import display, clear_output\n",
    "from ipywidgets import interact, interact_manual, FloatSlider\n",
    "from numba import jit\n",
    "import matplotlib.pyplot as plt\n",
    "from PIL import Image\n",
    "import time\n",
    "import warnings\n",
    "from time import sleep\n",
    "warnings.filterwarnings('ignore')"
   ]
  },
  {
   "cell_type": "code",
   "execution_count": 2,
   "metadata": {},
   "outputs": [],
   "source": [
    "lena_rgb = np.array(Image.open('resources/Lena.png'), dtype=np.uint8)\n",
    "#lena_rgb.shape[0]\n",
    "\n"
   ]
  },
  {
   "cell_type": "code",
   "execution_count": 3,
   "metadata": {},
   "outputs": [],
   "source": [
    "gray = np.zeros((lena_rgb.shape[0:2]))"
   ]
  },
  {
   "cell_type": "markdown",
   "metadata": {},
   "source": [
    "## Histogram "
   ]
  },
  {
   "cell_type": "markdown",
   "metadata": {},
   "source": [
    "### calculate the gray, r, g, and b histograms for the lena_rgb image\n",
    "For this exercices you're supposed to create four histograms. The first histogram is the grayscale histogram and the remaining are the color channels R, G, B. Use the weighted sum of the three linear-intensity values formular $Y' = 0.2126 \\times R + 0.7152 \\times G + 0.0722 \\times B$  to grayscale the RGB image. \n",
    "\n",
    "The result should look like this:\n",
    "![](resources/histogram_gt.png)\n",
    "\n",
    "\n",
    "**Hint**: \n",
    "* Write a function to generate the histogram, you need it the next tasks.\n",
    "* You just need a single numpy array with the shape `(4, 256)` to save the histogram bins for gray, r, g, and b.\n",
    "* you can have multiple plots in matplotlib using plt.subplot()\n",
    "* use `plt.bar` for your histogram with `plt.xlim([0,255])` to limit the x axis interval"
   ]
  },
  {
   "cell_type": "markdown",
   "metadata": {},
   "source": [
    "#### Solution 1"
   ]
  },
  {
   "cell_type": "code",
   "execution_count": 4,
   "metadata": {},
   "outputs": [],
   "source": [
    "def loop_hist(lena_rgb):\n",
    "    hist = np.zeros((4,256), dtype=np.uint64)\n",
    "    gray = np.zeros((lena_rgb.shape[0:2]))\n",
    "    for y in range(lena_rgb.shape[0]):\n",
    "        for x in range(lena_rgb.shape[1]):\n",
    "            r, g, b = int(lena_rgb[y,x,0]), int(lena_rgb[y,x,1]), int(lena_rgb[y,x,2])\n",
    "            Y = int(r * 0.2126 + g * 0.7152 + b * 0.0722)\n",
    "            gray[y,x] = Y\n",
    "            hist[0, Y] += 1\n",
    "            hist[1, r] += 1\n",
    "            hist[2, g] += 1\n",
    "            hist[3, b] += 1\n",
    "            \n",
    "    return hist, gray"
   ]
  },
  {
   "cell_type": "code",
   "execution_count": 5,
   "metadata": {},
   "outputs": [],
   "source": [
    "hist, gray = loop_hist(lena_rgb)"
   ]
  },
  {
   "cell_type": "code",
   "execution_count": 6,
   "metadata": {},
   "outputs": [
    {
     "name": "stdout",
     "output_type": "stream",
     "text": [
      "5.41 s ± 32.4 ms per loop (mean ± std. dev. of 7 runs, 1 loop each)\n"
     ]
    }
   ],
   "source": [
    "%timeit loop_hist(lena_rgb)"
   ]
  },
  {
   "cell_type": "markdown",
   "metadata": {},
   "source": [
    "#### Solution 2"
   ]
  },
  {
   "cell_type": "code",
   "execution_count": 7,
   "metadata": {},
   "outputs": [
    {
     "data": {
      "text/plain": [
       "dtype('uint8')"
      ]
     },
     "execution_count": 7,
     "metadata": {},
     "output_type": "execute_result"
    }
   ],
   "source": [
    "(lena_rgb * [0.2126, 0.7152, 0.0722]).sum(axis=-1).astype(np.uint8).dtype"
   ]
  },
  {
   "cell_type": "code",
   "execution_count": 8,
   "metadata": {},
   "outputs": [],
   "source": [
    "def numpy_hist(lena_rgb):\n",
    "    r_channel, g_channel, b_channel = [lena_rgb[:,:,i].flatten() for i in [0, 1, 2]]\n",
    "\n",
    "    numpy_gray = (lena_rgb * [0.2126, 0.7152, 0.0722]).sum(axis=-1).astype(np.uint8)\n",
    "    numpy_hist = np.zeros((4,256), dtype=np.uint64)\n",
    "    for idx, Y in enumerate(numpy_gray.flatten()): \n",
    "        numpy_hist[0, Y] += 1\n",
    "        numpy_hist[1, r_channel[idx]] += 1\n",
    "        numpy_hist[2, g_channel[idx]] += 1\n",
    "        numpy_hist[3, b_channel[idx]] += 1\n",
    "    \n",
    "    return numpy_hist, numpy_gray"
   ]
  },
  {
   "cell_type": "code",
   "execution_count": 9,
   "metadata": {},
   "outputs": [],
   "source": [
    "hist, gray = numpy_hist(lena_rgb)"
   ]
  },
  {
   "cell_type": "code",
   "execution_count": 10,
   "metadata": {},
   "outputs": [
    {
     "data": {
      "text/plain": [
       "(256,)"
      ]
     },
     "execution_count": 10,
     "metadata": {},
     "output_type": "execute_result"
    }
   ],
   "source": [
    "hist[0].shape"
   ]
  },
  {
   "cell_type": "code",
   "execution_count": 11,
   "metadata": {
    "scrolled": true
   },
   "outputs": [
    {
     "name": "stdout",
     "output_type": "stream",
     "text": [
      "5.19 s ± 48.8 ms per loop (mean ± std. dev. of 7 runs, 1 loop each)\n"
     ]
    }
   ],
   "source": [
    "%timeit numpy_hist(lena_rgb)"
   ]
  },
  {
   "cell_type": "code",
   "execution_count": 11,
   "metadata": {},
   "outputs": [],
   "source": [
    "#Image.fromarray(gray.astype(np.uint8)).save('resources/lena_gray.png')"
   ]
  },
  {
   "cell_type": "markdown",
   "metadata": {},
   "source": [
    "#### Visualization"
   ]
  },
  {
   "cell_type": "code",
   "execution_count": 12,
   "metadata": {},
   "outputs": [
    {
     "data": {
      "image/png": "[encoded data removed]",
      "text/plain": [
       "<Figure size 720x360 with 4 Axes>"
      ]
     },
     "metadata": {
      "needs_background": "light"
     },
     "output_type": "display_data"
    }
   ],
   "source": [
    "fig = plt.figure(figsize=(10,5))\n",
    "\n",
    "colors = ['gray','red', 'green', 'blue']\n",
    "for i in range(0, 4):\n",
    "    plt.subplot(2,2, i + 1)    \n",
    "    plt.title(colors[i])\n",
    "    plt.bar(range(0, 256), hist[i,:], align='edge', width=2, color=colors[i])\n",
    "    plt.xlim([0,255])\n",
    "        \n",
    "plt.tight_layout()\n",
    "plt.show()\n",
    "\n",
    "#plt.savefig('resources/histogram_gt.png')"
   ]
  },
  {
   "cell_type": "markdown",
   "metadata": {},
   "source": [
    "### Cumulative histogram\n",
    "\n",
    "Write a function to calculate the cumulative histogram for the grayscaled version of Lena. "
   ]
  },
  {
   "cell_type": "markdown",
   "metadata": {},
   "source": [
    "#### Solution"
   ]
  },
  {
   "cell_type": "code",
   "execution_count": 13,
   "metadata": {},
   "outputs": [],
   "source": [
    "def cumulative(hist):\n",
    "    cumulative_hist = np.zeros(hist.shape, dtype=np.uint64)\n",
    "    for b, _ in enumerate(hist):   \n",
    "        cumulative_hist[b] = cumulative_hist[b - 1] + hist[b] if b != 0 else hist[b]\n",
    "    return cumulative_hist\n",
    "\n",
    "cumulative_hist = cumulative(hist[0])"
   ]
  },
  {
   "cell_type": "markdown",
   "metadata": {},
   "source": [
    "#### Visualization"
   ]
  },
  {
   "cell_type": "code",
   "execution_count": 14,
   "metadata": {},
   "outputs": [
    {
     "data": {
      "image/png": "[encoded data removed]",
      "text/plain": [
       "<Figure size 720x360 with 1 Axes>"
      ]
     },
     "metadata": {
      "needs_background": "light"
     },
     "output_type": "display_data"
    }
   ],
   "source": [
    "fig = plt.figure(figsize=(10,5))\n",
    "\n",
    "plt.title('Cumulative Histogram')\n",
    "plt.bar(range(0, 256), cumulative_hist, align='edge', width=2, color='gray')\n",
    "plt.xlim([0,255])   \n",
    "\n",
    "plt.show()"
   ]
  },
  {
   "cell_type": "markdown",
   "metadata": {},
   "source": [
    "### calculate the mean, variance and standard deviation\n",
    "Use the previously created grayscale histogram to calculate the mean value, variance and standard deviation"
   ]
  },
  {
   "cell_type": "markdown",
   "metadata": {},
   "source": [
    "#### Solution"
   ]
  },
  {
   "cell_type": "code",
   "execution_count": 15,
   "metadata": {},
   "outputs": [
    {
     "data": {
      "text/plain": [
       "'Mean: 116.27, Var: 2442.55, Std: 49.42'"
      ]
     },
     "execution_count": 15,
     "metadata": {},
     "output_type": "execute_result"
    }
   ],
   "source": [
    "scale = 1.0 / (lena_rgb.shape[0] * lena_rgb.shape[1])\n",
    "i = range(0, 256)\n",
    "mean = (i * hist[0]).sum() * scale \n",
    "var = (((i - mean)**2) * hist[0]).sum() * scale\n",
    "std = np.sqrt(var)\n",
    "                                   \n",
    "'Mean: {:.2f}, Var: {:.2f}, Std: {:.2f}'.format(mean, var, std)"
   ]
  },
  {
   "cell_type": "code",
   "execution_count": 16,
   "metadata": {},
   "outputs": [
    {
     "data": {
      "text/plain": [
       "'Numpy - Mean: 116.27, Var: 2442.55, Std: 49.42'"
      ]
     },
     "execution_count": 16,
     "metadata": {},
     "output_type": "execute_result"
    }
   ],
   "source": [
    "'Numpy - Mean: {:.2f}, Var: {:.2f}, Std: {:.2f}'.format(gray.mean(), gray.var(), gray.std())"
   ]
  },
  {
   "cell_type": "markdown",
   "metadata": {},
   "source": [
    "## Point Operations"
   ]
  },
  {
   "cell_type": "markdown",
   "metadata": {},
   "source": [
    "### Manual Contrast Adjustment\n",
    "\n",
    "For the following exerciese you have to implement a manual contrast adjustment based on this formular: $f(m,n) = a[I(m,n) - s] + s $  where $a \\in \\mathbb{R}, s \\in [0, 255]$.\n",
    "Additional you implement the same approach with a Lookup-Table (LUT). Can you see the benefits of a LUT? At least you can visualize the values of the LUT using `plt.plot` and the histogram.\n",
    "\n",
    "**Visualization proposal**:\n",
    "![](resources/manual_contrast_adjustment.png)\n",
    "\n",
    "**Hint**\n",
    "* You don't need to loop over the x and y coordinates of your image because only the luminance values are important not the coordinates. Check the function `numpy.flatten`\n",
    "* You can measure the execution time in Python like this:\n",
    "```python\n",
    "    start = time.time()    \n",
    "    # code block start\n",
    "    \n",
    "    # code block end\n",
    "    diff = time.time() - start # execution time in seconds\n",
    "    print(\"Loop execution time: {:.3f} ms\".format(diff * 1000))\n",
    "```"
   ]
  },
  {
   "cell_type": "code",
   "execution_count": 17,
   "metadata": {},
   "outputs": [],
   "source": [
    "lena_low_contrast = np.array(Image.open('resources/lena-low-contrast.png'), dtype=np.uint8)"
   ]
  },
  {
   "cell_type": "markdown",
   "metadata": {},
   "source": [
    "#### Solution"
   ]
  },
  {
   "cell_type": "code",
   "execution_count": 18,
   "metadata": {},
   "outputs": [],
   "source": [
    "def saturation(a, s):\n",
    "    line = np.arange(0, 256, 1)\n",
    "    flat = lena_low_contrast.flatten()\n",
    "\n",
    "    img = flat.copy()    \n",
    "    lut_gray = flat.copy()\n",
    "    \n",
    "    hist = np.zeros((256,), dtype=np.uint64)\n",
    "    start = time.time()\n",
    "    for idx, intensity in enumerate(flat):      \n",
    "        img[idx] = max(0, min(255, a * (intensity - s) + s))\n",
    "        hist[int(img[idx])] += 1\n",
    "    \n",
    "    loop_msg = 'Loop execution time: {:.3f} ms'.format((time.time() - start) * 1000)\n",
    "    \n",
    "    \n",
    "    start = time.time()\n",
    "    LUT = np.clip(a * (line - s) + s, 0, 255)\n",
    "    lut_gray = lut_gray.flatten()\n",
    "    for idx, intensity in enumerate(lut_gray):           \n",
    "        lut_gray[idx] = LUT[int(intensity)]\n",
    "        \n",
    "\n",
    "    lut_msg = 'LUT execution time: {:.3f} ms'.format((time.time() - start) * 1000)\n",
    "        \n",
    "    plt.figure(figsize=(13,6))\n",
    "    plt.subplot(2,3,1)   \n",
    "    plt.title(\"original\")\n",
    "    plt.imshow(lena_low_contrast, cmap=\"gray\", vmin=0, vmax=255)    \n",
    "    plt.axis('off')\n",
    "    plt.subplot(2,3,2)        \n",
    "    plt.title(loop_msg)\n",
    "    plt.imshow(img.reshape(lena_low_contrast.shape), cmap=\"gray\", vmin=0, vmax=255)    \n",
    "    plt.axis('off')\n",
    "    plt.subplot(2,3,3)    \n",
    "    plt.title(lut_msg)\n",
    "    plt.imshow(lut_gray.reshape(lena_low_contrast.shape), cmap=\"gray\", vmin=0, vmax=255)     \n",
    "    plt.axis('off')\n",
    "    plt.subplot(2,2,3)\n",
    "    plt.title('LUT')\n",
    "    plt.plot(LUT)    \n",
    "    plt.plot(s,s, 'rx')\n",
    "    plt.xlabel('input intensity')\n",
    "    plt.ylabel('output intensity')\n",
    "    plt.ylim([0, 255])\n",
    "    plt.subplot(2,2,4)\n",
    "    plt.xlim([0, 255])    \n",
    "    plt.title(\"Histogram\")\n",
    "    plt.bar(range(0, 256), hist, align='edge', width=2, color='gray')\n",
    "    plt.xlim([0,255])\n",
    "    plt.show()    \n",
    "    plt.tight_layout()\n",
    "    #plt.savefig('resources/manual_contrast_adjustment.png')"
   ]
  },
  {
   "cell_type": "markdown",
   "metadata": {},
   "source": [
    "#### Visualization"
   ]
  },
  {
   "cell_type": "code",
   "execution_count": 19,
   "metadata": {},
   "outputs": [
    {
     "data": {
      "application/vnd.jupyter.widget-view+json": {
       "model_id": "e1785f3151f2467bbff5599035318f2e",
       "version_major": 2,
       "version_minor": 0
      },
      "text/plain": [
       "interactive(children=(FloatSlider(value=1.0, continuous_update=False, description='a', max=10.0, min=-1.0, ste…"
      ]
     },
     "metadata": {},
     "output_type": "display_data"
    }
   ],
   "source": [
    "@interact(\n",
    "    a=FloatSlider(min=-1.0, max=10.0, value=1.0, step=0.05, continuous_update=False),\n",
    "    s=FloatSlider(min=0.0, max=255.0, value=127.0, step=0.05, continuous_update=False)\n",
    ")\n",
    "def run(a, s):\n",
    "    saturation(a, s)\n",
    "    "
   ]
  },
  {
   "cell_type": "markdown",
   "metadata": {},
   "source": [
    "### Auto Contrast Adjustment\n",
    "\n",
    "Manual adjustments are nice and give you the opportunity to adjust an image as you want. But if time is rare and you have a lot of images with low contrast, automation is the key. \n",
    "In this task you implement your own auto contrast operation on a low contrast version of lena (already grayscaled) and after this you calculate the histogram. For your auto contrast implementation use the formula below:\n",
    "\n",
    "$f_{ac}(i) = (i - i_{low}) \\frac{i_{max} - i_{min}}{i_{high} - i_{low}}$\n",
    "\n",
    "**Visualization proposal:**\n",
    "![](resources/auto_contrast_adjustment.png)\n",
    "\n",
    "\n",
    "**Hint:** \n",
    "- you need your histogram (again)\n",
    "- $i_{low}$ is the first non zero bin of the histogram while $i_{high}$ the last bin is\n",
    "- $i_{max}$ is the maximum intensity for a pixel and $i_{low}$ the opposite"
   ]
  },
  {
   "cell_type": "markdown",
   "metadata": {},
   "source": [
    "#### Solution"
   ]
  },
  {
   "cell_type": "code",
   "execution_count": 59,
   "metadata": {},
   "outputs": [],
   "source": [
    "hist = np.zeros(256,dtype=np.uint8)\n",
    "for intensity in lena_low_contrast.flatten():\n",
    "    hist[intensity] += 1"
   ]
  },
  {
   "cell_type": "code",
   "execution_count": null,
   "metadata": {},
   "outputs": [],
   "source": []
  },
  {
   "cell_type": "code",
   "execution_count": 63,
   "metadata": {},
   "outputs": [],
   "source": [
    "def autocontrast():    \n",
    "    non_zero = []\n",
    "    for bin_value, value in enumerate(hist):\n",
    "        if value != 0:\n",
    "            non_zero += [bin_value]        \n",
    "    \n",
    "    # or just np.nonzero(hist[0])\n",
    "    \n",
    "    low = non_zero[0]\n",
    "    high = non_zero[-1]\n",
    "    \n",
    "    auto_contrast = (lena_low_contrast - low) * (255.0 / (high - low))\n",
    "                \n",
    "\n",
    "    plt.figure(figsize=(6,6))\n",
    "    plt.subplot(2,2,1)    \n",
    "    plt.title(\"original\")\n",
    "    plt.imshow(lena_low_contrast, cmap=\"gray\", vmin=0, vmax=255)    \n",
    "    plt.subplot(2,2,2)    \n",
    "    plt.title(\"auto contrast\")\n",
    "    plt.imshow(auto_contrast, cmap=\"gray\", vmin=0, vmax=255)        \n",
    "    plt.subplot(2,1,2)    \n",
    "    plt.title(\"Histogram\")\n",
    "    hist_auto = np.zeros(256, dtype=np.int64)\n",
    "    for idx, value in enumerate(auto_contrast.flatten().astype(np.uint8)):         \n",
    "        hist_auto[value] += 1\n",
    "        \n",
    "    plt.bar(range(0, 256), hist_auto)        \n",
    "    plt.xlim([0, 255])\n",
    "    plt.tight_layout()\n",
    "    plt.savefig('resources/auto_contrast_adjustment.png')"
   ]
  },
  {
   "cell_type": "markdown",
   "metadata": {},
   "source": [
    "#### Visualization"
   ]
  },
  {
   "cell_type": "code",
   "execution_count": 64,
   "metadata": {},
   "outputs": [
    {
     "data": {
      "image/png": "[encoded data removed]",
      "text/plain": [
       "<Figure size 432x432 with 3 Axes>"
      ]
     },
     "metadata": {
      "needs_background": "light"
     },
     "output_type": "display_data"
    }
   ],
   "source": [
    "autocontrast()"
   ]
  },
  {
   "cell_type": "markdown",
   "metadata": {},
   "source": [
    "### Color Space Conversion - (optional)\n",
    "A color space conversion is also a point operation. In this task you can try to implement the conversion from RGB -> HSL -> RGB. Compared to RGB where each plane represents a color and the final color the result of an addition of the R G B components is, HSL contains a hue, saturation and luminance component. The RGB color space can depicted as a cube where each component represents a axis while HSV can be represented as a cylinder. H is the angle for the color [0, 360°) on this cylinder, S is the saturation of the color [0, 1] and V the lightness [0, 1]\n",
    "\n",
    "https://en.wikipedia.org/wiki/HSL_and_HSV\n",
    "\n",
    "- RGB to HSV: https://en.wikipedia.org/wiki/HSL_and_HSV#From_RGB\n",
    "- HSV to RGB: https://en.wikipedia.org/wiki/HSL_and_HSV#HSV_to_RGB\n",
    "\n",
    "\n",
    "I highly recommend the Software \"Fiji -  [Download](https://fiji.sc/)\" and the *Color Inspector 3D* plugin (already included) to visualize the color spaces"
   ]
  },
  {
   "cell_type": "code",
   "execution_count": 120,
   "metadata": {},
   "outputs": [],
   "source": [
    "lena_rgb = np.array(Image.open('resources/Lena.png'), dtype=np.uint8)\n",
    "flat = lena_rgb.reshape(-1,3) / 255.0"
   ]
  },
  {
   "cell_type": "markdown",
   "metadata": {},
   "source": [
    "#### Solution"
   ]
  },
  {
   "cell_type": "code",
   "execution_count": 121,
   "metadata": {},
   "outputs": [],
   "source": [
    "# @jit\n",
    "def convert(flat, h, s, v):\n",
    "    lena_new = np.zeros(flat.shape)    \n",
    "    for idx, (r,g,b) in enumerate(flat):\n",
    "        H,S,V = 0, 0, 0\n",
    "        Cmax = max(max(r,g),b)\n",
    "        Cmin = min(min(r,g),b)\n",
    "        delta = Cmax - Cmin\n",
    "        \n",
    "        if Cmax == r:\n",
    "            H = 60 * ((g-b) / delta)\n",
    "        elif Cmax == g:\n",
    "            H = 60 * (2 + (b-r) / delta)\n",
    "        elif Cmax == b:\n",
    "            H = 60 * (4 + (r - g) / delta)\n",
    "        \n",
    "        S = delta / Cmax if Cmax != 0 else 0\n",
    "        V = Cmax\n",
    "        \n",
    "        H += h\n",
    "        S += s\n",
    "        V += v\n",
    "\n",
    "        S = np.clip(S, 0, 1)\n",
    "        V = np.clip(V, 0, 1)\n",
    "        \n",
    "        if H < 0.0:\n",
    "            H += 360\n",
    "        \n",
    "        C = V * S\n",
    "        X = C * ( 1 - abs((H / 60) % 2 - 1 ))\n",
    "        m = V - C\n",
    "        \n",
    "        if 0 <= H < 60:\n",
    "            Rs, Gs, Bs = C, X, 0\n",
    "        if 60 <= H < 120:\n",
    "            Rs, Gs, Bs = X, C, 0\n",
    "        if 120 <= H < 180:\n",
    "            Rs, Gs, Bs = 0, C, X\n",
    "        if 180 <= H < 240:\n",
    "            Rs, Gs, Bs = 0, X, C\n",
    "        if 240 <= H < 300:\n",
    "            Rs, Gs, Bs = X, 0, C\n",
    "        if 300 <= H < 360:\n",
    "            Rs, Gs, Bs = C, 0, X\n",
    "        \n",
    "        lena_new[idx,]  = (Rs + m) * 255.0, (Gs + m) * 255.0, (Bs + m) * 255.0\n",
    "        \n",
    "    return np.clip(lena_new, 0, 255).astype(np.uint8)"
   ]
  },
  {
   "cell_type": "markdown",
   "metadata": {},
   "source": [
    "#### Visualization"
   ]
  },
  {
   "cell_type": "code",
   "execution_count": 122,
   "metadata": {},
   "outputs": [
    {
     "data": {
      "application/vnd.jupyter.widget-view+json": {
       "model_id": "9f67859887b34889a3acd615b3c3bfeb",
       "version_major": 2,
       "version_minor": 0
      },
      "text/plain": [
       "interactive(children=(FloatSlider(value=0.0, continuous_update=False, description='h', max=360.0, step=10.0), …"
      ]
     },
     "metadata": {},
     "output_type": "display_data"
    }
   ],
   "source": [
    "#@interact(h=(0, 360, 1), s = (-1.0, 1.0, 0.01), v =(-1.0, 1.0, 0.01))\n",
    "@interact(h=FloatSlider(min=0, max=360, step=10, continuous_update=False),\n",
    "          s=FloatSlider(min=-1, max=1, step=0.1, continuous_update=False), \n",
    "          v=FloatSlider(min=-1, max=1, step=0.1, continuous_update=False)\n",
    "         )\n",
    "def change_color(h=0, s=0, v=0):    \n",
    "    lena_new = convert(flat, h, s, v)\n",
    "    plt.figure(figsize=(10,10))\n",
    "    plt.imshow(lena_new.reshape(lena_rgb.shape))\n",
    "    plt.show()\n",
    "    "
   ]
  },
  {
   "cell_type": "code",
   "execution_count": null,
   "metadata": {},
   "outputs": [],
   "source": []
  }
 ],
 "metadata": {
  "kernelspec": {
   "display_name": "Python 3",
   "language": "python",
   "name": "python3"
  },
  "language_info": {
   "codemirror_mode": {
    "name": "ipython",
    "version": 3
   },
   "file_extension": ".py",
   "mimetype": "text/x-python",
   "name": "python",
   "nbconvert_exporter": "python",
   "pygments_lexer": "ipython3",
   "version": "3.9.4"
  },
  "toc": {
   "base_numbering": 1,
   "nav_menu": {},
   "number_sections": true,
   "sideBar": true,
   "skip_h1_title": false,
   "title_cell": "Table of Contents",
   "title_sidebar": "Contents",
   "toc_cell": false,
   "toc_position": {},
   "toc_section_display": true,
   "toc_window_display": false
  }
 },
 "nbformat": 4,
 "nbformat_minor": 2
}
