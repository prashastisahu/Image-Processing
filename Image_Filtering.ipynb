{
 "cells": [
  {
   "cell_type": "code",
   "execution_count": 1,
   "metadata": {},
   "outputs": [],
   "source": [
    "%matplotlib notebook\n",
    "import numpy as np\n",
    "from IPython.display import display, clear_output\n",
    "import ipywidgets as widgets\n",
    "from ipywidgets import interact, interact_manual, IntSlider\n",
    "import matplotlib.pyplot as plt\n",
    "from PIL import Image\n",
    "import time\n",
    "import warnings\n",
    "from time import sleep\n",
    "#from numba import jit\n",
    "warnings.filterwarnings('ignore')"
   ]
  },
  {
   "cell_type": "code",
   "execution_count": 2,
   "metadata": {},
   "outputs": [],
   "source": [
    "lena = np.array(Image.open('resources/lena_gray.png'), dtype=np.uint8)"
   ]
  },
  {
   "cell_type": "markdown",
   "metadata": {},
   "source": [
    "## Image Filtering - 2D Convolution\n",
    "\n",
    "In this exercise you have to implement your own function to apply a 2D convolution to the grayscaled version of Lena. Write a function where you can apply a 2d convolution to an image with different kernels and return the result. You have to implement the following Kernels:\n",
    "\n",
    "* 3 x 3 Box Filter\n",
    "* 5 x 5 Box Filter\n",
    "* 5 x 5 Gaussian Filter with sigma = 5\n",
    "* 3 x 3 Sobel Filter in Y-Direction\n",
    "\n",
    "To avoid pixel access outside the image borders, implement padding (with zeros) and mirroring as border handling methods.\n",
    "\n",
    "![](resources/task_1.gif)\n",
    "\n",
    "\n",
    "**Hints**\n",
    "* Don't forget to normalize each kernel! \n",
    "* Clamp your values to $[0, 255]$ with `max(0, min(255, 0))`\n",
    "* You can use the formular $h_{\\sigma} = \\mathrm{e}^{-\\frac{x^2 + y^2}{2\\sigma^2}}$ to calculate the Gaussian filter (CV_03_Spatial_Filtering slide 4-33) for a kernel $K_{m\\times n}$. \n",
    "$K_y \\in \\mathbb{Z} \\, | \\, [\\lfloor-\\frac{K_{m}}{2}\\rfloor, \\lfloor\\frac{K_{m}}{2}\\rfloor], K_x \\in \\mathbb{Z} | [\\lfloor-\\frac{K_{n}}{2}\\rfloor, \\lfloor\\frac{K_{n}}{2}\\rfloor]$\n",
    "\n",
    "* For border handling you can use [np.pad](https://docs.scipy.org/doc/numpy/reference/generated/numpy.pad.html)"
   ]
  },
  {
   "cell_type": "markdown",
   "metadata": {},
   "source": [
    "### Solution"
   ]
  },
  {
   "cell_type": "code",
   "execution_count": 3,
   "metadata": {
    "scrolled": false
   },
   "outputs": [],
   "source": [
    "def build_2d_gauss(sigma, kernel_width):\n",
    "    #kernel_width = sigma * 2 if (sigma * 2) & 1 != 0 else sigma * 2 + 1\n",
    "    sigma = 2.0 * sigma*sigma    \n",
    "    half = kernel_width // 2\n",
    "    out = np.zeros((kernel_width, kernel_width))\n",
    "    for y in range(-half, half + 1):\n",
    "        for x in range(-half, half + 1):\n",
    "            n = (x**2 + y**2)            \n",
    "            out[y + half,x + half] = np.exp(-(n/sigma))\n",
    "    return out / np.sum(out)\n",
    "\n",
    "def build_2d_filter(filter_name):\n",
    "    if filter_name == '3x3 Box':\n",
    "        return np.ones((3,3)) / 9.0\n",
    "    elif filter_name == '7x7 Box':\n",
    "        return np.ones((7,7)) / 49\n",
    "    elif filter_name == '5x5 Gaussian σ=5':\n",
    "        return build_2d_gauss(3, 5)\n",
    "    elif filter_name == '3x3 Sobel Y-Dir':\n",
    "        sobel = np.array([[-1, -2, -1],[0,0,0],[1, 2, 1]])    \n",
    "        return sobel / np.abs(sobel).sum()\n",
    "    \n",
    "#@jit\n",
    "def convolve(image, filter_name, border='Padding', use_classic=False):\n",
    "    kernel = build_2d_filter(filter_name)\n",
    "    kx_half = kernel.shape[1] // 2\n",
    "    ky_half = kernel.shape[0] // 2\n",
    "    \n",
    "    offset = 0\n",
    "    if filter_name == '3x3 Sobel Y-Dir':\n",
    "        offset = 128\n",
    "    \n",
    "    \n",
    "    if border == 'Padding':\n",
    "        pad_image = np.pad(image,((ky_half,ky_half),(kx_half,kx_half)))\n",
    "    else:\n",
    "        pad_image = np.pad(image,((ky_half,ky_half),(kx_half,kx_half)), mode='reflect')\n",
    "        \n",
    "    convolved_image = np.zeros(image.shape)\n",
    "    \n",
    "    if use_classic:    \n",
    "        for y in range(0, image.shape[0]):\n",
    "            for x in range(0, image.shape[1]):\n",
    "                Y = 0.0\n",
    "                for ky in range(-ky_half, ky_half + 1):\n",
    "                    for kx in range(-kx_half, kx_half + 1):\n",
    "                        Y += pad_image[y + ky + ky_half, x + kx + kx_half] * kernel[ky, kx]\n",
    "                convolved_image[y,x] = max(0, min(255, Y + offset)) \n",
    "    else:\n",
    "        for y in range(0, image.shape[0]):\n",
    "            for x in range(0, image.shape[1]):                           \n",
    "                mat = pad_image[y:y + kernel.shape[1], x: x + kernel.shape[0]]\n",
    "                Y = np.multiply(mat, kernel).sum()\n",
    "                Y = max(0, min(255, Y + offset)) \n",
    "                convolved_image[y,x] = Y\n",
    "    return convolved_image"
   ]
  },
  {
   "cell_type": "code",
   "execution_count": 4,
   "metadata": {},
   "outputs": [
    {
     "ename": "NameError",
     "evalue": "name 'kernel' is not defined",
     "output_type": "error",
     "traceback": [
      "\u001b[1;31m---------------------------------------------------------------------------\u001b[0m",
      "\u001b[1;31mNameError\u001b[0m                                 Traceback (most recent call last)",
      "\u001b[1;32m<ipython-input-4-c1fdb5347443>\u001b[0m in \u001b[0;36m<module>\u001b[1;34m\u001b[0m\n\u001b[1;32m----> 1\u001b[1;33m \u001b[0mkernel\u001b[0m\u001b[1;33m\u001b[0m\u001b[1;33m\u001b[0m\u001b[0m\n\u001b[0m",
      "\u001b[1;31mNameError\u001b[0m: name 'kernel' is not defined"
     ]
    }
   ],
   "source": []
  },
  {
   "cell_type": "markdown",
   "metadata": {},
   "source": [
    "### Visualization"
   ]
  },
  {
   "cell_type": "code",
   "execution_count": null,
   "metadata": {},
   "outputs": [],
   "source": []
  },
  {
   "cell_type": "code",
   "execution_count": 12,
   "metadata": {},
   "outputs": [
    {
     "data": {
      "application/vnd.jupyter.widget-view+json": {
       "model_id": "18a514ceca3d4587b45da29ac044ad57",
       "version_major": 2,
       "version_minor": 0
      },
      "text/plain": [
       "interactive(children=(Dropdown(description='filter_name', options=('', '3x3 Box', '7x7 Box', '5x5 Gaussian σ=5…"
      ]
     },
     "metadata": {},
     "output_type": "display_data"
    }
   ],
   "source": [
    "@interact(filter_name=['','3x3 Box','7x7 Box', '5x5 Gaussian σ=5', '3x3 Sobel Y-Dir'], border=['Padding', 'Mirroring'], use_classic=False)\n",
    "def execute(filter_name='', border='', use_classic=False):\n",
    "    if filter_name is \"\":\n",
    "        return    \n",
    "    \n",
    "    start = time.time()\n",
    "    convolved = convolve(lena.copy(), filter_name, border, use_classic)\n",
    "    print(f\"Execution time {(time.time() - start ) * 1000} ms\")\n",
    "    \n",
    "    \n",
    "    plt.figure(figsize=(8,4))\n",
    "    plt.subplot(1,2,1)\n",
    "    plt.title(\"Source\")\n",
    "    plt.imshow(lena, cmap=\"gray\", vmin=0, vmax=255, interpolation='bilinear')\n",
    "    plt.axis('off')\n",
    "    plt.subplot(1,2,2)\n",
    "    plt.title(filter_name)\n",
    "    plt.imshow(convolved, vmin=0, vmax=255, cmap=\"gray\",interpolation='bilinear')\n",
    "    plt.axis('off')\n",
    "    plt.show()    "
   ]
  },
  {
   "cell_type": "markdown",
   "metadata": {},
   "source": [
    "##  Image Filtering - Median Filter\n",
    "\n",
    "For this task we have to find a way to remove the bad looking <b>salt and pepper</b> noise from Lena. To solve this problem, you need to implement a median filter. Write a function to pass the desired kernel size, apply the median filter, return the filtered image, and display it.\n",
    "<img src=\"resources/task_2.png\" />\n"
   ]
  },
  {
   "cell_type": "code",
   "execution_count": 13,
   "metadata": {},
   "outputs": [],
   "source": [
    "lena_noisy = np.array(Image.open('resources/lena_salt_and_pepper.png'), dtype=np.uint8)"
   ]
  },
  {
   "cell_type": "markdown",
   "metadata": {},
   "source": [
    "### Solution"
   ]
  },
  {
   "cell_type": "code",
   "execution_count": 14,
   "metadata": {},
   "outputs": [],
   "source": [
    "#@jit\n",
    "def median(image, filter_size, border='reflect', use_classic=False):\n",
    "    k_half = int(filter_size // 2)\n",
    "    \n",
    "    if border == 'Padding':\n",
    "        pad_image = np.pad(image,((k_half,k_half),(k_half,k_half)))\n",
    "    else:\n",
    "        pad_image = np.pad(image,((k_half,k_half),(k_half,k_half)), mode='reflect')\n",
    "        \n",
    "    median_image = np.zeros(image.shape)    \n",
    "    if use_classic:    \n",
    "        for y in range(0, image.shape[0]):\n",
    "            for x in range(0, image.shape[1]):\n",
    "                Ys = np.zeros((filter_size,filter_size))\n",
    "                for ky in range(-k_half, k_half + 1):\n",
    "                    for kx in range(-k_half, k_half + 1):\n",
    "                        Ys[kx, ky] = pad_image[y + ky, x + kx]                                \n",
    "                median_image[y,x] = np.median(Ys)            \n",
    "    else:\n",
    "        for y in range(0, image.shape[0]):\n",
    "            for x in range(0, image.shape[1]):                \n",
    "                mat = pad_image[y:y + filter_size, x: x + filter_size].flatten()                \n",
    "                median_image[y,x] = np.median(mat)\n",
    "    return median_image"
   ]
  },
  {
   "cell_type": "markdown",
   "metadata": {},
   "source": [
    "### Visualization"
   ]
  },
  {
   "cell_type": "code",
   "execution_count": 15,
   "metadata": {},
   "outputs": [
    {
     "data": {
      "application/vnd.jupyter.widget-view+json": {
       "model_id": "74b1e7a4836147d6bb178d5f8d716c31",
       "version_major": 2,
       "version_minor": 0
      },
      "text/plain": [
       "interactive(children=(IntSlider(value=3, continuous_update=False, description='filter_size', max=11, min=3, st…"
      ]
     },
     "metadata": {},
     "output_type": "display_data"
    }
   ],
   "source": [
    "@interact(filter_size=IntSlider(min=3, max=11, value=3, step=2, continuous_update=False), use_classic=False)\n",
    "def execute(filter_size=3.0, use_classic=False):\n",
    "    start = time.time()\n",
    "    filtered = median(lena_noisy, filter_size, 'reflect', use_classic)\n",
    "    print(f\"Execution Time {((time.time()-start) * 1000):.2f} ms\")\n",
    "    plt.figure(figsize=(9,5))\n",
    "    plt.subplot(1,2,1)\n",
    "    plt.title(\"Source\")    \n",
    "    plt.imshow(lena_noisy, cmap=\"gray\", vmin=0, vmax=255, interpolation='bilinear')\n",
    "    plt.axis('off')\n",
    "    plt.subplot(1,2,2)\n",
    "    plt.title(\"Median %d x %d\" %(filter_size, filter_size))\n",
    "    plt.imshow(filtered, cmap=\"gray\", vmin=0, vmax=255, interpolation='bilinear')\n",
    "    plt.axis('off')\n",
    "    plt.show() "
   ]
  },
  {
   "cell_type": "code",
   "execution_count": null,
   "metadata": {},
   "outputs": [],
   "source": []
  }
 ],
 "metadata": {
  "kernelspec": {
   "display_name": "Python 3",
   "language": "python",
   "name": "python3"
  },
  "language_info": {
   "codemirror_mode": {
    "name": "ipython",
    "version": 3
   },
   "file_extension": ".py",
   "mimetype": "text/x-python",
   "name": "python",
   "nbconvert_exporter": "python",
   "pygments_lexer": "ipython3",
   "version": "3.9.4"
  },
  "toc": {
   "base_numbering": 1,
   "nav_menu": {},
   "number_sections": true,
   "sideBar": true,
   "skip_h1_title": false,
   "title_cell": "Table of Contents",
   "title_sidebar": "Contents",
   "toc_cell": false,
   "toc_position": {},
   "toc_section_display": true,
   "toc_window_display": false
  }
 },
 "nbformat": 4,
 "nbformat_minor": 2
}
