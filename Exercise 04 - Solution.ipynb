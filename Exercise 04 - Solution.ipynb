{
 "cells": [
  {
   "cell_type": "code",
   "execution_count": 61,
   "metadata": {},
   "outputs": [],
   "source": [
    "%matplotlib notebook\n",
    "import numpy as np\n",
    "from IPython.display import display, clear_output\n",
    "import ipywidgets as widgets\n",
    "from ipywidgets import interact, interact_manual, IntSlider\n",
    "import matplotlib.pyplot as plt\n",
    "from PIL import Image\n",
    "import time\n",
    "import warnings\n",
    "from time import sleep\n",
    "warnings.filterwarnings('ignore')"
   ]
  },
  {
   "cell_type": "code",
   "execution_count": 62,
   "metadata": {},
   "outputs": [],
   "source": [
    "fingerprint = np.array(Image.open('resources/fingerprint.png').convert('1'), dtype=np.bool)"
   ]
  },
  {
   "cell_type": "markdown",
   "metadata": {},
   "source": [
    "# Morphological Operations\n",
    "\n",
    "![](resources/dilation_erosion.png)\n",
    "\n",
    "In this task you have to implement:\n",
    "1. a method to apply the operations erosion and dilation to the fingerprint image\n",
    "2. a combination of both operations by applying opening and closing to the image\n",
    "\n",
    "As structuring element, you have to implement these which are visualized in the table below, for both step 1 and step 2. \n",
    "\n",
    "<table style=\"border: 1px solid black\">\n",
    "    <caption style=\"text-align:center\">Structuring Elements</caption>\n",
    "    <thead>\n",
    "    <tr>\n",
    "        <td style=\"border: 1px solid black\">\n",
    "            3x3 Box\n",
    "        </td>\n",
    "        <td style=\"border: 1px solid black\">\n",
    "            3x3 Diamond\n",
    "        </td>\n",
    "        <td style=\"border: 1px solid black\">\n",
    "            5x5 Diamond\n",
    "        </td>\n",
    "    </tr>\n",
    "    </thead>\n",
    "    <tbody>\n",
    "    <tr>\n",
    "        <td style=\"border: 1px solid black\">\n",
    "            <table>\n",
    "                <tr>\n",
    "                    <td>•</td>\n",
    "                    <td>•</td>\n",
    "                    <td>•</td>\n",
    "                </tr>   \n",
    "                <tr>\n",
    "                    <td>•</td>\n",
    "                    <td style=\"background:red;font-weight:bold\">•</td>\n",
    "                    <td>•</td>\n",
    "                </tr>    \n",
    "                <tr>\n",
    "                    <td>•</td>\n",
    "                    <td>•</td>\n",
    "                    <td>•</td>\n",
    "                </tr>\n",
    "            </table>\n",
    "        </td>\n",
    "        <td style=\"border: 1px solid black\">\n",
    "            <table>\n",
    "                <tr>\n",
    "                    <td> </td>\n",
    "                    <td>•</td>\n",
    "                    <td> </td>\n",
    "                </tr>   \n",
    "                <tr>\n",
    "                    <td>•</td>\n",
    "                    <td style=\"background:red;font-weight:bold\">•</td>\n",
    "                    <td>•</td>\n",
    "                </tr>    \n",
    "                <tr>\n",
    "                    <td> </td>\n",
    "                    <td>•</td>\n",
    "                    <td> </td>\n",
    "                </tr>\n",
    "            </table>\n",
    "        </td>\n",
    "        <td style=\"border: 1px solid black\">\n",
    "            <table>\n",
    "                <tr>\n",
    "                    <td> </td>\n",
    "                    <td>•</td>\n",
    "                    <td>•</td>\n",
    "                    <td>•</td>\n",
    "                    <td> </td>\n",
    "                </tr>   \n",
    "                <tr>\n",
    "                    <td>•</td>\n",
    "                    <td>•</td>\n",
    "                    <td>•</td>\n",
    "                    <td>•</td>\n",
    "                    <td>•</td>\n",
    "                </tr> \n",
    "                <tr>\n",
    "                    <td>•</td>\n",
    "                    <td>•</td>\n",
    "                    <td style=\"background:red;font-weight:bold\">•</td>\n",
    "                    <td>•</td>\n",
    "                    <td>•</td>\n",
    "                </tr> \n",
    "                <tr>\n",
    "                    <td>•</td>\n",
    "                    <td>•</td>\n",
    "                    <td>•</td>\n",
    "                    <td>•</td>\n",
    "                    <td>•</td>\n",
    "                </tr> \n",
    "                <tr>\n",
    "                    <td> </td>\n",
    "                    <td>•</td>\n",
    "                    <td>•</td>\n",
    "                    <td>•</td>\n",
    "                    <td> </td>\n",
    "                </tr> \n",
    "            </table>\n",
    "        </td>\n",
    "    </tr>\n",
    "    </tbody>\n",
    "    </table>\n",
    "\n",
    "**Hints**\n",
    "* We are working on binary images, the data type for this is np.bool\n",
    "* For this task np.all and np.any will save you a lot of loops and if conditions"
   ]
  },
  {
   "cell_type": "markdown",
   "metadata": {},
   "source": [
    "## Dilation and Erosion"
   ]
  },
  {
   "cell_type": "markdown",
   "metadata": {},
   "source": [
    "### Solution "
   ]
  },
  {
   "cell_type": "code",
   "execution_count": 72,
   "metadata": {},
   "outputs": [],
   "source": [
    "def convolve_se(image, se, is_dilation=True):    \n",
    "    se = se.astype(np.bool)\n",
    "    se_x_half = se.shape[1] // 2\n",
    "    se_y_half = se.shape[0] // 2\n",
    "    \n",
    "    pad_image = np.pad(image,((se_y_half,se_y_half),(se_x_half,se_x_half)), mode='constant')        \n",
    "    convolved_image = np.zeros_like(pad_image, dtype=np.bool)\n",
    "\n",
    "    for y in range(0, image.shape[0]):\n",
    "        for x in range(0, image.shape[1]):                           \n",
    "            patch = pad_image[y:y + se.shape[1], x: x + se.shape[0]]            \n",
    "            convolved_image[y + se_y_half, x + se_x_half] = np.any(patch[se]) if is_dilation else np.all(patch[se])\n",
    "                                   \n",
    "    return convolved_image[se_y_half:image.shape[0] + se_y_half, se_x_half:image.shape[1] + se_x_half].astype(np.bool)\n",
    "\n",
    "def build_se(se_type):\n",
    "    if se_type == '3x3 Diamond':\n",
    "        d = np.ones((3,3))\n",
    "        d[[0,2,0,2],[0,2,2,0]] = 0\n",
    "        return d\n",
    "    elif se_type == '3x3 Box':\n",
    "        return np.ones((3,3))\n",
    "    elif se_type == '5x5 Diamond':\n",
    "        d = np.ones((5,5))\n",
    "        d[[0,4,0,4],[0,4,4,0]] = 0\n",
    "        return d"
   ]
  },
  {
   "cell_type": "markdown",
   "metadata": {},
   "source": [
    "### Visulization"
   ]
  },
  {
   "cell_type": "code",
   "execution_count": 75,
   "metadata": {
    "scrolled": false
   },
   "outputs": [
    {
     "data": {
      "application/vnd.jupyter.widget-view+json": {
       "model_id": "fa6c41cbf6a74ba4b24da74e62c6bb4f",
       "version_major": 2,
       "version_minor": 0
      },
      "text/plain": [
       "interactive(children=(Dropdown(description='se', options=('3x3 Diamond', '3x3 Box', '5x5 Diamond'), value='3x3…"
      ]
     },
     "metadata": {},
     "output_type": "display_data"
    }
   ],
   "source": [
    "@interact(se=['3x3 Diamond', '3x3 Box', '5x5 Diamond'])\n",
    "def run(se):\n",
    "    dilatation = convolve_se(fingerprint, build_se(se))\n",
    "    erosion = convolve_se(fingerprint, build_se(se), False)\n",
    "    plt.figure(figsize=(10, 5))    \n",
    "    ax1 = plt.subplot(1,3,1)\n",
    "    plt.title(\"Source\")\n",
    "    plt.imshow(fingerprint, cmap='gray')\n",
    "    plt.subplot(1,3,2, sharex=ax1, sharey=ax1)\n",
    "    plt.title(\"Dilation\")\n",
    "    plt.imshow(dilatation, cmap='gray')\n",
    "    plt.subplot(1,3,3, sharex=ax1, sharey=ax1)\n",
    "    plt.title(\"Erosion\")    \n",
    "    plt.imshow(erosion, cmap='gray')\n",
    "    plt.show()"
   ]
  },
  {
   "cell_type": "markdown",
   "metadata": {},
   "source": [
    "## Opening and Closing\n",
    "\n",
    "To remove errors in segmentations, a common procedure is the implementation of opening and closing. For this task you should impelement this methods based on the structual elements from the task above."
   ]
  },
  {
   "cell_type": "markdown",
   "metadata": {},
   "source": [
    "### Visualization"
   ]
  },
  {
   "cell_type": "code",
   "execution_count": 76,
   "metadata": {},
   "outputs": [
    {
     "data": {
      "application/vnd.jupyter.widget-view+json": {
       "model_id": "e33266b60bbf456b9a0da2ab6549c376",
       "version_major": 2,
       "version_minor": 0
      },
      "text/plain": [
       "interactive(children=(Dropdown(description='se', options=('3x3 Diamond', '3x3 Box', '5x5 Diamond'), value='3x3…"
      ]
     },
     "metadata": {},
     "output_type": "display_data"
    }
   ],
   "source": [
    "@interact(se=['3x3 Diamond', '3x3 Box', '5x5 Diamond'])\n",
    "def run(se):\n",
    "    se = build_se(se)\n",
    "    dilatation = convolve_se(fingerprint, se)\n",
    "    erosion = convolve_se(fingerprint, se, False)\n",
    "    \n",
    "    opening = convolve_se(erosion, se)\n",
    "    closing = convolve_se(dilatation, se, False)\n",
    "    \n",
    "    plt.figure(figsize=(10, 5))    \n",
    "    ax1 = plt.subplot(1,3,1)\n",
    "    plt.title(\"Source\")\n",
    "    plt.imshow(fingerprint, cmap='gray')\n",
    "    plt.subplot(1,3,2, sharex=ax1, sharey=ax1)\n",
    "    plt.title(\"Opening\")\n",
    "    plt.imshow(opening, cmap='gray')\n",
    "    plt.subplot(1,3,3, sharex=ax1, sharey=ax1)\n",
    "    plt.title(\"Closing\")    \n",
    "    plt.imshow(closing, cmap='gray')\n",
    "    plt.show()"
   ]
  },
  {
   "cell_type": "markdown",
   "metadata": {},
   "source": [
    "## Boundary Extraction \n",
    "\n",
    "In this task you have to detect object boundaries using a combination of the source image and the result of an erosion.\n",
    "\n",
    "![](resources/boundary.png)\n",
    "\n"
   ]
  },
  {
   "cell_type": "code",
   "execution_count": 77,
   "metadata": {},
   "outputs": [],
   "source": [
    "cells = np.array(Image.open('resources/cells.png').convert('1'), dtype=np.bool)"
   ]
  },
  {
   "cell_type": "markdown",
   "metadata": {},
   "source": [
    "### Solution"
   ]
  },
  {
   "cell_type": "code",
   "execution_count": 78,
   "metadata": {},
   "outputs": [],
   "source": [
    "def boundary_extraction(image, se):\n",
    "    se = build_se(se)\n",
    "    eroded = convolve_se(image, se, False)\n",
    "    return image ^ eroded, eroded"
   ]
  },
  {
   "cell_type": "markdown",
   "metadata": {},
   "source": [
    "### Visualization"
   ]
  },
  {
   "cell_type": "code",
   "execution_count": 71,
   "metadata": {},
   "outputs": [
    {
     "data": {
      "application/vnd.jupyter.widget-view+json": {
       "model_id": "c187895476a84d23b2721c6b8d946077",
       "version_major": 2,
       "version_minor": 0
      },
      "text/plain": [
       "interactive(children=(Dropdown(description='se', options=('3x3 Diamond', '3x3 Box', '5x5 Diamond'), value='3x3…"
      ]
     },
     "metadata": {},
     "output_type": "display_data"
    }
   ],
   "source": [
    "@interact(se=['3x3 Diamond', '3x3 Box', '5x5 Diamond'])\n",
    "def run(se):\n",
    "    boundary, eroded = boundary_extraction(cells, se)\n",
    "    \n",
    "    plt.figure(figsize=(10, 5))    \n",
    "    ax1 = plt.subplot(1,3,1)\n",
    "    plt.title(\"Source\")\n",
    "    plt.imshow(cells, cmap='gray')\n",
    "    \n",
    "    plt.subplot(1,3,2, sharex=ax1, sharey=ax1)\n",
    "    plt.title(\"Eroded\")\n",
    "    plt.imshow(eroded, cmap='gray')    \n",
    "    \n",
    "    plt.subplot(1,3,3, sharex=ax1, sharey=ax1)\n",
    "    plt.title(\"Boundary\")\n",
    "    plt.imshow(boundary, cmap='gray')    \n",
    "    plt.tight_layout()\n",
    "    plt.show()        "
   ]
  },
  {
   "cell_type": "code",
   "execution_count": null,
   "metadata": {},
   "outputs": [],
   "source": []
  }
 ],
 "metadata": {
  "kernelspec": {
   "display_name": "Python 3",
   "language": "python",
   "name": "python3"
  },
  "language_info": {
   "codemirror_mode": {
    "name": "ipython",
    "version": 3
   },
   "file_extension": ".py",
   "mimetype": "text/x-python",
   "name": "python",
   "nbconvert_exporter": "python",
   "pygments_lexer": "ipython3",
   "version": "3.9.4"
  },
  "toc": {
   "base_numbering": 1,
   "nav_menu": {},
   "number_sections": true,
   "sideBar": true,
   "skip_h1_title": false,
   "title_cell": "Table of Contents",
   "title_sidebar": "Contents",
   "toc_cell": false,
   "toc_position": {},
   "toc_section_display": true,
   "toc_window_display": false
  }
 },
 "nbformat": 4,
 "nbformat_minor": 2
}
